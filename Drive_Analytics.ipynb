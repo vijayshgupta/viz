{
  "nbformat": 4,
  "nbformat_minor": 0,
  "metadata": {
    "colab": {
      "name": "Drive_Analytics.ipynb",
      "version": "0.3.2",
      "provenance": [],
      "collapsed_sections": [],
      "include_colab_link": true
    },
    "kernelspec": {
      "name": "python3",
      "display_name": "Python 3"
    }
  },
  "cells": [
    {
      "cell_type": "markdown",
      "metadata": {
        "id": "view-in-github",
        "colab_type": "text"
      },
      "source": [
        "<a href=\"https://colab.research.google.com/github/vijayshgupta/viz/blob/master/Drive_Analytics.ipynb\" target=\"_parent\"><img src=\"https://colab.research.google.com/assets/colab-badge.svg\" alt=\"Open In Colab\"/></a>"
      ]
    },
    {
      "metadata": {
        "id": "WSFIy3Oenag1",
        "colab_type": "code",
        "outputId": "cd28ac07-6b9e-42cd-880b-80ae95db9b14",
        "colab": {
          "base_uri": "https://localhost:8080/",
          "height": 71
        }
      },
      "cell_type": "code",
      "source": [
        "import csv\n",
        "import math\n",
        "import pandas as pd\n",
        "import numpy as np\n",
        "\n",
        "from scipy.stats import skew,kurtosis\n",
        "from statsmodels.tsa import stattools\n",
        "\n",
        "from sklearn.ensemble import RandomForestClassifier\n",
        "from sklearn.dummy import DummyClassifier\n",
        "from sklearn.model_selection import train_test_split,cross_validate,GridSearchCV\n",
        "from sklearn.metrics import confusion_matrix"
      ],
      "execution_count": 1,
      "outputs": [
        {
          "output_type": "stream",
          "text": [
            "/usr/local/lib/python3.6/dist-packages/statsmodels/compat/pandas.py:56: FutureWarning: The pandas.core.datetools module is deprecated and will be removed in a future version. Please use the pandas.tseries module instead.\n",
            "  from pandas.core import datetools\n"
          ],
          "name": "stderr"
        }
      ]
    },
    {
      "metadata": {
        "id": "xuAiYF3g4i7h",
        "colab_type": "code",
        "colab": {}
      },
      "cell_type": "code",
      "source": [
        "# Create the parameter grid based on the results of random search \n",
        "param_grid = {\n",
        "    'bootstrap': [True],\n",
        "    'max_depth': [25,30,35],\n",
        "    'max_features': [7,9],\n",
        "    'min_samples_leaf': [3,5],\n",
        "    'min_samples_split': [10, 15],\n",
        "    'n_estimators': [200, 300, 500]\n",
        "}\n",
        "# Create a based model\n",
        "rf = RandomForestClassifier()\n",
        "# Instantiate the grid search model\n",
        "grid_search = GridSearchCV(estimator = rf, param_grid = param_grid, \n",
        "                          cv = 5, n_jobs = -1, verbose = 2)\n",
        "\n",
        "dataset = np.loadtxt('../content/Features.csv', delimiter=\",\")\n",
        "X = dataset[:, 1:]\n",
        "y = dataset[:, 0]\n",
        "\n",
        "X_train, X_test, y_train, y_test = train_test_split(X, y, test_size=.2)\n",
        "# Fit the grid search to the data\n",
        "grid_search.fit(X_train, y_train)\n"
      ],
      "execution_count": 0,
      "outputs": []
    },
    {
      "metadata": {
        "id": "zg2EOBz7BG2r",
        "colab_type": "code",
        "colab": {}
      },
      "cell_type": "code",
      "source": [
        "print(grid_search.best_params_)"
      ],
      "execution_count": 0,
      "outputs": []
    },
    {
      "metadata": {
        "id": "PdK8GQtG9DcQ",
        "colab_type": "code",
        "colab": {}
      },
      "cell_type": "code",
      "source": [
        "from sklearn.metrics import accuracy_score\n",
        "def evaluate(model, test_features, test_labels):\n",
        "    predictions = model.predict(test_features)\n",
        "    print('Model Performance')\n",
        "    \n",
        "    print('Accuracy = {:0.2f}%.'.format(accuracy_score(test_labels, predictions)))\n",
        "    print(confusion_matrix(test_labels, predictions))\n",
        "    accuracy=accuracy_score(test_labels, predictions)\n",
        "    return accuracy"
      ],
      "execution_count": 0,
      "outputs": []
    },
    {
      "metadata": {
        "id": "1Xph_vsN8Zr7",
        "colab_type": "code",
        "outputId": "28a7439f-8f97-4e97-a385-6bf3b2eb2a66",
        "colab": {
          "base_uri": "https://localhost:8080/",
          "height": 136
        }
      },
      "cell_type": "code",
      "source": [
        "\n",
        "best_grid = grid_search.best_estimator_\n",
        "grid_accuracy = evaluate(best_grid, X_test, y_test)\n",
        "#pd.crosstab(y_test,)"
      ],
      "execution_count": 0,
      "outputs": [
        {
          "output_type": "stream",
          "text": [
            "Model Performance\n",
            "Accuracy = 0.94%.\n",
            "[[65  1  0  1  1]\n",
            " [ 0 55  0  0  0]\n",
            " [ 0  0 53  3  2]\n",
            " [ 2  2  1 55  0]\n",
            " [ 3  0  2  1 50]]\n"
          ],
          "name": "stdout"
        }
      ]
    },
    {
      "metadata": {
        "id": "-90Hch7wpXR9",
        "colab_type": "code",
        "colab": {}
      },
      "cell_type": "code",
      "source": [
        "def magnitude(activity):\n",
        "    x2=activity['X']*activity['X']\n",
        "    y2 = activity['Y'] * activity['Y']\n",
        "    z2 = activity['Z'] * activity['Z']\n",
        "    m2=x2+y2+z2\n",
        "    m=m2.apply(lambda x:math.sqrt(x))\n",
        "    return m\n",
        "\n",
        "def windows(df,size=50):\n",
        "    start=0\n",
        "    while start < df.count():\n",
        "        yield start,start+size\n",
        "        start += int(size / 2)\n",
        "\n",
        "def jitter(axis, start, end):\n",
        "    j = float(0)\n",
        "    # for i in xrange(start, min(end, axis.count())):\n",
        "    for i in range(start, min(end, axis.count())):\n",
        "        if start != 0:\n",
        "            j += abs(axis[i] - axis[i-1])\n",
        "    return j / (end - start)\n",
        "\n",
        "def mean_crossing_rate(axis, start, end):\n",
        "    cr = 0\n",
        "    m = axis.mean()\n",
        "   # for i in xrange(start, min(end, axis.count())):\n",
        "    for i in range(start, min(end, axis.count())):\n",
        "        if start != 0:\n",
        "            p = axis[i-1] > m\n",
        "            c = axis[i] > m\n",
        "            if p != c:\n",
        "                cr += 1\n",
        "    return float(cr) / (end - start -1)\n",
        "\n",
        "def window_summary(axis, start, end):\n",
        "    acf = stattools.acf(axis[start:end])\n",
        "    acv = stattools.acovf(axis[start:end])\n",
        "    sqd_error = (axis[start:end] - axis[start:end].mean()) ** 2\n",
        "    return [\n",
        "        jitter(axis, start, end),\n",
        "        mean_crossing_rate(axis, start, end),\n",
        "        axis[start:end].mean(),\n",
        "        axis[start:end].std(),\n",
        "        axis[start:end].var(),\n",
        "        axis[start:end].min(),\n",
        "        axis[start:end].max(),\n",
        "        acf.mean(),\n",
        "        acf.std(),\n",
        "        acv.mean(),\n",
        "        acv.std(),\n",
        "        skew(axis[start:end]),\n",
        "        kurtosis(axis[start:end]),\n",
        "        math.sqrt(sqd_error.mean())\n",
        "    ]\n",
        "\n",
        "def features(activity):\n",
        "    print(\"Inside features\")\n",
        "    for (start, end) in windows(activity['timestamp']):\n",
        "        features = []\n",
        "        for axis in ['X', 'Y', 'Z', 'magnitude']:\n",
        "            features += window_summary(activity[axis], start, end)\n",
        "        yield features\n",
        "\n",
        "\n"
      ],
      "execution_count": 0,
      "outputs": []
    },
    {
      "metadata": {
        "id": "Cl1YiQpc6eak",
        "colab_type": "code",
        "colab": {}
      },
      "cell_type": "code",
      "source": [
        "#BASE MODEL / DEFAULT FEATURE\n",
        "X_train, X_test, y_train, y_test = train_test_split(X, y, test_size=.2)\n",
        "base = RandomForestClassifier()\n",
        "base.fit(X_train, y_train)\n",
        "base_accuracy = evaluate(base, X_test, y_test)\n"
      ],
      "execution_count": 0,
      "outputs": []
    },
    {
      "metadata": {
        "id": "UDNf_4pkq0cU",
        "colab_type": "code",
        "colab": {}
      },
      "cell_type": "code",
      "source": [
        "def model_training():\n",
        "    print(\"Model Training \")\n",
        "    dataset = np.loadtxt('../content/Features.csv', delimiter=\",\")\n",
        "    X = dataset[:, 1:]\n",
        "    y = dataset[:, 0]\n",
        "\n",
        "    rf = RandomForestClassifier()\n",
        "    base = DummyClassifier() # generates predictions by respecting the training set's class distribution\n",
        "    \n",
        "\n",
        "    results = []\n",
        "    baselines = []\n",
        "    X_train, X_test, y_train, y_test = train_test_split(X, y, test_size=.3)\n",
        "    \n",
        "    \"\"\"for i in range(0, 10):\n",
        "        X_train, X_test, y_train, y_test = train_test_split(X, y, test_size=.3)\n",
        "        rf.fit(X_train, y_train)\n",
        "        base.fit(X_train, y_train)\n",
        "        res = rf.score(X_test, y_test)\n",
        "        bas = base.score(X_test, y_test)\n",
        "        print ('Loop', i, res, bas)\n",
        "        results.append(res)\n",
        "        baselines.append(bas)\n",
        "\n",
        "    print ('\\nBaseline', np.mean(baselines), np.std(baselines))\n",
        "    print ('Random Forest', np.mean(results), np.std(results))\"\"\"\n",
        "\n"
      ],
      "execution_count": 0,
      "outputs": []
    },
    {
      "metadata": {
        "id": "SbOqqisdph0t",
        "colab_type": "code",
        "colab": {}
      },
      "cell_type": "code",
      "source": [
        "def main():\n",
        "    print(\"python main function\")\n",
        "    COLUMNS = ['timestamp','X','Y','Z']\n",
        "    ACCLR=pd.read_csv('../content/acclr.csv',header=None, names=COLUMNS)[:14850]\n",
        "    BRAKE=pd.read_csv('../content/brake.csv',header=None, names=COLUMNS)[:14850]\n",
        "    RTURN=pd.read_csv('../content/rturn.csv',header=None, names=COLUMNS)[:14850]\n",
        "    LTURN=pd.read_csv('../content/lturn.csv',header=None, names=COLUMNS)[:14850]\n",
        "    COAST=pd.read_csv('../content/coast.csv',header=None, names=COLUMNS)[:14850]\n",
        "\n",
        "    #print(ACC.head())\n",
        "    #print(MGN.head())\n",
        "\n",
        "    ACCLR['magnitude']=magnitude(ACCLR)\n",
        "    BRAKE['magnitude']=magnitude(BRAKE)\n",
        "    RTURN['magnitude']=magnitude(RTURN)\n",
        "    LTURN['magnitude']=magnitude(LTURN)\n",
        "    COAST['magnitude']=magnitude(COAST)\n",
        "\n",
        "    activities = [ACCLR, BRAKE, RTURN, LTURN, COAST]\n",
        "    with open('/../content/Features.csv','w') as out:\n",
        "        rows = csv.writer(out)\n",
        "        for i in range(0, len(activities)):\n",
        "            for f in features(activities[i]):\n",
        "                rows.writerow([i] + f)\n",
        "    \n",
        "\"\"\"\n",
        "    model_training()\"\"\"\n",
        "\n",
        "\n",
        "if __name__ == '__main__':\n",
        "    main()\n"
      ],
      "execution_count": 0,
      "outputs": []
    },
    {
      "metadata": {
        "id": "eIKFUElexUiQ",
        "colab_type": "code",
        "colab": {}
      },
      "cell_type": "code",
      "source": [
        "print(\"Accelerometer: \",(ACCLR.shape))\n",
        "print(\"Brake: \",(BRAKE.shape))\n",
        "print(\"Right Turn: \",(RTURN.shape))\n",
        "print(\"Left Turn: \",(LTURN.shape))\n",
        "print(\"Coast: \",(COAST.shape))\n",
        "\n",
        "print(\"Feature: \",(dataset.shape))"
      ],
      "execution_count": 0,
      "outputs": []
    },
    {
      "metadata": {
        "id": "-CzvROymx61H",
        "colab_type": "code",
        "colab": {}
      },
      "cell_type": "code",
      "source": [
        "pd.crosstab(X_test.make.X_test.body_style)"
      ],
      "execution_count": 0,
      "outputs": []
    },
    {
      "metadata": {
        "id": "bB5vzRe-jTF3",
        "colab_type": "code",
        "outputId": "0ee168f8-59bd-421d-887c-d54eb86bf388",
        "colab": {
          "base_uri": "https://localhost:8080/",
          "height": 34
        }
      },
      "cell_type": "code",
      "source": [
        "np.unique(y_test,return_counts=True)"
      ],
      "execution_count": 0,
      "outputs": [
        {
          "output_type": "execute_result",
          "data": {
            "text/plain": [
              "(array([0., 1., 2., 3., 4.]), array([58, 52, 61, 70, 56]))"
            ]
          },
          "metadata": {
            "tags": []
          },
          "execution_count": 82
        }
      ]
    },
    {
      "metadata": {
        "id": "LA_E_EhSkN7N",
        "colab_type": "code",
        "colab": {}
      },
      "cell_type": "code",
      "source": [
        "header=[\"label\",\"X\",\"Y\",\"Z\",\"Mag\",\"X_jitter\",\"X_mean_crossing_rate\",\"X_mean\",\"X_std\",\n",
        "        \"X_var\",\"X_min\",\"X_max\",\"X_mean\",\"X_std\",\"X_mean\",\"X_std\",\"X_skew\",\"X_kurtosis\",\"X_RMSE\",\n",
        "       \"Y_jitter\",\"Y_mean_crossing_rate\",\"Y_mean\",\"Y_std\",\"Y_var\",\"Y_min\",\"Y_maY\",\"Y_mean\",\"Y_std\",\n",
        "        \"Y_mean\",\"Y_std\",\"Y_skew\",\"Y_kurtosis\",\"Y_RMSE\",\"Z_jitter\",\"Z_mean_crossing_rate\",\"Z_mean\",\n",
        "        \"Z_std\",\"Z_var\",\"Z_min\",\"Z_maZ\",\"Z_mean\",\"Z_std\",\"Z_mean\",\"Z_std\",\"Z_skew\",\"Z_kurtosis\",\"Z_RMSE\",\n",
        "       \"mag_jitter\",\"mag_mean_crossing_rate\",\"mag_mean\",\"mag_std\",\"mag_var\",\"mag_min\",\"mag_mamag\",\"mag_mean\",\n",
        "        \"mag_std\",\"mag_mean\",\"mag_std\",\"mag_skew\",\"mag_kurtosis\",\"mag_RMSE\"]\n",
        "dataset = pd.read_csv('../content/Features.csv',header=header, delimiter=\",\")\n",
        "dataset.corr()"
      ],
      "execution_count": 0,
      "outputs": []
    },
    {
      "metadata": {
        "id": "sePL_vrIi3nG",
        "colab_type": "code",
        "colab": {}
      },
      "cell_type": "code",
      "source": [
        ""
      ],
      "execution_count": 0,
      "outputs": []
    }
  ]
}